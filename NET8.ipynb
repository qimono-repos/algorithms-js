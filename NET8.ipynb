{
 "cells": [
  {
   "cell_type": "code",
   "execution_count": 3,
   "metadata": {
    "dotnet_interactive": {
     "language": "csharp"
    },
    "polyglot_notebook": {
     "kernelName": "csharp"
    }
   },
   "outputs": [],
   "source": [
    "using System;\n",
    "\n",
    "// To execute C#, please define \"static void Main\" on a class\n",
    "// named Solution.\n",
    "\n",
    "\n",
    "\n",
    "class Solution\n",
    "{\n",
    "    public int[] GetTarget(int[] array , int target){\n",
    "\n",
    "        for (int outer = 1; outer < array.Length; outer++)\n",
    "        {\n",
    "            Console.WriteLine(\"outer \"+ outer);//TODO removel log\n",
    "            for (int inner = 0; inner < outer; inner++)\n",
    "            {\n",
    "                Console.WriteLine($\"\\t inner {inner}\");//TODO removel log\n",
    "\n",
    "                var sum = array[outer] + array[inner];\n",
    "                if(sum == target){\n",
    "                   \n",
    "                    return new int[]{inner, outer};\n",
    "                }\n",
    "            }\n",
    "        }\n",
    "        return new int[]{};\n",
    "    }\n",
    "}"
   ]
  },
  {
   "cell_type": "code",
   "execution_count": 4,
   "metadata": {
    "dotnet_interactive": {
     "language": "csharp"
    },
    "polyglot_notebook": {
     "kernelName": "csharp"
    }
   },
   "outputs": [
    {
     "name": "stdout",
     "output_type": "stream",
     "text": [
      "outer 1\n",
      "\t inner 0\n",
      "outer 2\n",
      "\t inner 0\n",
      "\t inner 1\n",
      "outer 3\n",
      "\t inner 0\n",
      "THE TARGET HITS WITH : \n",
      "0 ; 3 ; "
     ]
    }
   ],
   "source": [
    "        var solution = new Solution();\n",
    "        var res = solution.GetTarget(new int[]{2,3,4,9}, 11);\n",
    "        Console.WriteLine(\"THE TARGET HITS WITH : \" );\n",
    "        foreach (var index in res)\n",
    "        {\n",
    "            Console.Write($\"{index} ; \");\n",
    "        }\n"
   ]
  },
  {
   "cell_type": "code",
   "execution_count": 2,
   "metadata": {
    "dotnet_interactive": {
     "language": "csharp"
    },
    "polyglot_notebook": {
     "kernelName": "csharp"
    }
   },
   "outputs": [
    {
     "ename": "Error",
     "evalue": "(1,7): error CS0246: The type or namespace name 'xUnit' could not be found (are you missing a using directive or an assembly reference?)\r\n(5,6): error CS0246: The type or namespace name 'FactAttribute' could not be found (are you missing a using directive or an assembly reference?)\r\n(5,6): error CS0246: The type or namespace name 'Fact' could not be found (are you missing a using directive or an assembly reference?)\r\n(9,9): error CS0103: The name 'Assert' does not exist in the current context",
     "output_type": "error",
     "traceback": [
      "(1,7): error CS0246: The type or namespace name 'xUnit' could not be found (are you missing a using directive or an assembly reference?)\r\n",
      "(5,6): error CS0246: The type or namespace name 'FactAttribute' could not be found (are you missing a using directive or an assembly reference?)\r\n",
      "(5,6): error CS0246: The type or namespace name 'Fact' could not be found (are you missing a using directive or an assembly reference?)\r\n",
      "(9,9): error CS0103: The name 'Assert' does not exist in the current context"
     ]
    }
   ],
   "source": [
    "using xUnit;\n",
    "\n",
    "public class SolutionTest\n",
    "{\n",
    "    [Fact]\n",
    "    public void Test1()\n",
    "    {\n",
    "        bool IsProgrammer = true;\n",
    "        Assert.Equal(IsProgrammer, true);\n",
    "    }\n",
    "}"
   ]
  }
 ],
 "metadata": {
  "kernelspec": {
   "display_name": ".NET (C#)",
   "language": "C#",
   "name": ".net-csharp"
  },
  "language_info": {
   "name": "polyglot-notebook"
  },
  "polyglot_notebook": {
   "kernelInfo": {
    "defaultKernelName": "csharp",
    "items": [
     {
      "aliases": [],
      "languageName": "csharp",
      "name": "csharp"
     }
    ]
   }
  }
 },
 "nbformat": 4,
 "nbformat_minor": 2
}
